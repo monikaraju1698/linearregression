{
 "cells": [
  {
   "cell_type": "code",
   "execution_count": null,
   "metadata": {},
   "outputs": [],
   "source": [
    "import numpy as np\n",
    "import pandas as pd\n",
    "import matplotlib.pyplot as plt\n",
    "import seaborn as sns"
   ]
  },
  {
   "cell_type": "code",
   "execution_count": null,
   "metadata": {},
   "outputs": [],
   "source": [
    "x = np.array(7 * np.random.rand(500, 1) - 3)\n",
    "x1 = x.reshape(-1, 1)\n",
    "y = 13 * x*x + 2 * x + 7 "
   ]
  },
  {
   "cell_type": "code",
   "execution_count": null,
   "metadata": {},
   "outputs": [],
   "source": [
    "x1.shape"
   ]
  },
  {
   "cell_type": "code",
   "execution_count": null,
   "metadata": {},
   "outputs": [],
   "source": [
    "y.shape"
   ]
  },
  {
   "cell_type": "code",
   "execution_count": null,
   "metadata": {},
   "outputs": [],
   "source": [
    "plt.scatter(x1,y)\n",
    "\n",
    "plt.show()"
   ]
  },
  {
   "cell_type": "code",
   "execution_count": null,
   "metadata": {},
   "outputs": [],
   "source": [
    "from sklearn.linear_model import LinearRegression"
   ]
  },
  {
   "cell_type": "code",
   "execution_count": null,
   "metadata": {},
   "outputs": [],
   "source": [
    "model=LinearRegression()"
   ]
  },
  {
   "cell_type": "code",
   "execution_count": null,
   "metadata": {},
   "outputs": [],
   "source": [
    "from sklearn.model_selection import train_test_split"
   ]
  },
  {
   "cell_type": "code",
   "execution_count": null,
   "metadata": {},
   "outputs": [],
   "source": [
    "x_train,x_test,y_train,y_test=train_test_split(x1,y,test_size=0.2,random_state=0)"
   ]
  },
  {
   "cell_type": "code",
   "execution_count": null,
   "metadata": {},
   "outputs": [],
   "source": [
    "model.fit(x_train,y_train)"
   ]
  },
  {
   "cell_type": "code",
   "execution_count": null,
   "metadata": {},
   "outputs": [],
   "source": [
    "print(model.coef_)"
   ]
  },
  {
   "cell_type": "code",
   "execution_count": null,
   "metadata": {},
   "outputs": [],
   "source": [
    "print(model.intercept_)"
   ]
  },
  {
   "cell_type": "code",
   "execution_count": 33,
   "metadata": {},
   "outputs": [],
   "source": [
    "prediction =model.predict(x_test)"
   ]
  },
  {
   "cell_type": "code",
   "execution_count": 34,
   "metadata": {},
   "outputs": [
    {
     "data": {
      "text/plain": [
       "array([[ 76.76389666],\n",
       "       [111.02630661],\n",
       "       [118.11686986],\n",
       "       [ 58.55178402],\n",
       "       [ 49.23203474],\n",
       "       [  6.87874811],\n",
       "       [ 33.1531932 ],\n",
       "       [ 42.78456247],\n",
       "       [ 76.02690345],\n",
       "       [ 70.69808179],\n",
       "       [ 48.05006878],\n",
       "       [ 90.28837186],\n",
       "       [ 10.05567376],\n",
       "       [117.6830889 ],\n",
       "       [ 58.64022119],\n",
       "       [ 50.48473708],\n",
       "       [ 88.69690447],\n",
       "       [ 37.07641242],\n",
       "       [ 19.90538837],\n",
       "       [ 65.94171405],\n",
       "       [ 61.97576239],\n",
       "       [ 89.91229905],\n",
       "       [ 28.81784364],\n",
       "       [ 10.70274731],\n",
       "       [ 58.78718993],\n",
       "       [ 94.05750718],\n",
       "       [ 75.36351125],\n",
       "       [ 24.90973432],\n",
       "       [106.829881  ],\n",
       "       [ 74.44654201],\n",
       "       [ 73.91516944],\n",
       "       [ 66.19946645],\n",
       "       [ 83.80434995],\n",
       "       [114.3150336 ],\n",
       "       [ 83.78120218],\n",
       "       [ 65.60555372],\n",
       "       [111.65674037],\n",
       "       [ 37.26413991],\n",
       "       [103.93280771],\n",
       "       [ 61.36215869],\n",
       "       [ 62.26427855],\n",
       "       [ 96.36717596],\n",
       "       [ 66.76415787],\n",
       "       [109.427397  ],\n",
       "       [108.48589802],\n",
       "       [ 49.77780817],\n",
       "       [ 66.16371302],\n",
       "       [ 63.15528455],\n",
       "       [ 34.45487553],\n",
       "       [ 14.77714361],\n",
       "       [ 73.66397642],\n",
       "       [ 86.24455493],\n",
       "       [ 88.85365599],\n",
       "       [ 57.03112573],\n",
       "       [ 43.11427321],\n",
       "       [ 55.92427371],\n",
       "       [ 71.10131933],\n",
       "       [ 75.50629405],\n",
       "       [ 43.80370319],\n",
       "       [ 10.67532784],\n",
       "       [110.33523809],\n",
       "       [ 66.16696914],\n",
       "       [ 44.96178147],\n",
       "       [ 34.67982876],\n",
       "       [ 45.19212145],\n",
       "       [ 25.23565083],\n",
       "       [114.65590106],\n",
       "       [ 24.49447054],\n",
       "       [ 31.84935362],\n",
       "       [ 10.60748006],\n",
       "       [ 36.36550647],\n",
       "       [ 86.51196074],\n",
       "       [ 56.58313533],\n",
       "       [ 12.44970586],\n",
       "       [ 42.59467729],\n",
       "       [ 71.68370706],\n",
       "       [ 39.35138742],\n",
       "       [101.90378204],\n",
       "       [ 75.00473998],\n",
       "       [ 54.22010502],\n",
       "       [ 85.55342609],\n",
       "       [ 56.22652132],\n",
       "       [ 50.63971771],\n",
       "       [ 51.51914189],\n",
       "       [ 95.95004031],\n",
       "       [ 20.75164485],\n",
       "       [ 91.95453933],\n",
       "       [ 59.11819165],\n",
       "       [ 61.85656996],\n",
       "       [ 15.62651984],\n",
       "       [ 40.90729454],\n",
       "       [ 86.9795639 ],\n",
       "       [ 57.45299123],\n",
       "       [ 13.10512552],\n",
       "       [103.84249433],\n",
       "       [  9.41380976],\n",
       "       [ 90.84440753],\n",
       "       [ 98.52394316],\n",
       "       [102.48241255],\n",
       "       [ 12.14133786]])"
      ]
     },
     "execution_count": 34,
     "metadata": {},
     "output_type": "execute_result"
    }
   ],
   "source": [
    "prediction"
   ]
  },
  {
   "cell_type": "code",
   "execution_count": 35,
   "metadata": {},
   "outputs": [
    {
     "data": {
      "image/png": "[encoded data removed]",
      "text/plain": [
       "<Figure size 432x288 with 1 Axes>"
      ]
     },
     "metadata": {
      "needs_background": "light"
     },
     "output_type": "display_data"
    }
   ],
   "source": [
    "plt.scatter(x1,y)\n",
    "plt.plot(x_test,prediction)\n",
    "plt.show()"
   ]
  },
  {
   "cell_type": "code",
   "execution_count": 36,
   "metadata": {},
   "outputs": [],
   "source": [
    "from sklearn import metrics"
   ]
  },
  {
   "cell_type": "code",
   "execution_count": 37,
   "metadata": {},
   "outputs": [
    {
     "name": "stdout",
     "output_type": "stream",
     "text": [
      "2404.5316834285004\n"
     ]
    }
   ],
   "source": [
    "print(metrics.mean_squared_error(y_test,prediction))"
   ]
  },
  {
   "cell_type": "code",
   "execution_count": 38,
   "metadata": {},
   "outputs": [
    {
     "name": "stdout",
     "output_type": "stream",
     "text": [
      "42.96615938543675\n"
     ]
    }
   ],
   "source": [
    "print(metrics.mean_absolute_error(y_test,prediction))"
   ]
  },
  {
   "cell_type": "code",
   "execution_count": 39,
   "metadata": {},
   "outputs": [
    {
     "name": "stdout",
     "output_type": "stream",
     "text": [
      "49.03602434362415\n"
     ]
    }
   ],
   "source": [
    "print(np.sqrt(metrics.mean_squared_error(y_test,prediction)))"
   ]
  },
  {
   "cell_type": "code",
   "execution_count": 40,
   "metadata": {},
   "outputs": [
    {
     "name": "stdout",
     "output_type": "stream",
     "text": [
      "0.17831567972621898\n"
     ]
    }
   ],
   "source": [
    "print(metrics.r2_score(y_test,prediction))"
   ]
  },
  {
   "cell_type": "code",
   "execution_count": 41,
   "metadata": {},
   "outputs": [],
   "source": [
    "from sklearn.preprocessing import PolynomialFeatures"
   ]
  },
  {
   "cell_type": "code",
   "execution_count": 42,
   "metadata": {},
   "outputs": [],
   "source": [
    "poly=PolynomialFeatures(degree=2, include_bias= False)"
   ]
  },
  {
   "cell_type": "code",
   "execution_count": 43,
   "metadata": {},
   "outputs": [],
   "source": [
    "x_poly=poly.fit_transform(x)"
   ]
  },
  {
   "cell_type": "code",
   "execution_count": 44,
   "metadata": {},
   "outputs": [
    {
     "data": {
      "text/plain": [
       "array([-1.15493124])"
      ]
     },
     "execution_count": 44,
     "metadata": {},
     "output_type": "execute_result"
    }
   ],
   "source": [
    "x[3]"
   ]
  },
  {
   "cell_type": "code",
   "execution_count": 45,
   "metadata": {},
   "outputs": [
    {
     "data": {
      "text/plain": [
       "array([-1.15493124,  1.33386617])"
      ]
     },
     "execution_count": 45,
     "metadata": {},
     "output_type": "execute_result"
    }
   ],
   "source": [
    "x_poly[3]"
   ]
  },
  {
   "cell_type": "code",
   "execution_count": 46,
   "metadata": {},
   "outputs": [
    {
     "data": {
      "text/plain": [
       "(500, 2)"
      ]
     },
     "execution_count": 46,
     "metadata": {},
     "output_type": "execute_result"
    }
   ],
   "source": [
    "x_poly.shape"
   ]
  },
  {
   "cell_type": "code",
   "execution_count": 47,
   "metadata": {},
   "outputs": [],
   "source": [
    "model2=LinearRegression()"
   ]
  },
  {
   "cell_type": "code",
   "execution_count": 48,
   "metadata": {},
   "outputs": [
    {
     "data": {
      "text/plain": [
       "LinearRegression()"
      ]
     },
     "execution_count": 48,
     "metadata": {},
     "output_type": "execute_result"
    }
   ],
   "source": [
    "model2.fit(x_poly,y)"
   ]
  },
  {
   "cell_type": "code",
   "execution_count": 49,
   "metadata": {},
   "outputs": [
    {
     "data": {
      "text/plain": [
       "array([[ 15.45390134],\n",
       "       [  7.75185786],\n",
       "       [ 17.30977776],\n",
       "       [ 22.03039769],\n",
       "       [ 38.14987609],\n",
       "       [102.55840138],\n",
       "       [ 31.86172488],\n",
       "       [ 78.01015857],\n",
       "       [114.80664703],\n",
       "       [  7.84254716],\n",
       "       [191.97108816],\n",
       "       [ 41.70894183],\n",
       "       [  7.1389545 ],\n",
       "       [107.87082929],\n",
       "       [  8.20730777],\n",
       "       [117.32317436],\n",
       "       [161.44263198],\n",
       "       [ 94.40931605],\n",
       "       [  7.6021366 ],\n",
       "       [ 18.48871881],\n",
       "       [ 31.23189664],\n",
       "       [ 30.09091049],\n",
       "       [  9.62081974],\n",
       "       [ 16.96658569],\n",
       "       [ 47.41427068],\n",
       "       [  7.56531029],\n",
       "       [120.31770462],\n",
       "       [ 61.50589695],\n",
       "       [ 66.70411955],\n",
       "       [ 10.95085936],\n",
       "       [102.24645721],\n",
       "       [107.16255422],\n",
       "       [153.15630477],\n",
       "       [ 16.72771864],\n",
       "       [ 72.02716785],\n",
       "       [ 86.72577903],\n",
       "       [ 17.21625803],\n",
       "       [ 14.24327446],\n",
       "       [ 78.14644226],\n",
       "       [  6.92333954],\n",
       "       [ 29.83445744],\n",
       "       [ 44.65350659],\n",
       "       [ 44.93513358],\n",
       "       [ 98.64173978],\n",
       "       [ 87.23479387],\n",
       "       [  8.144273  ],\n",
       "       [ 97.40008704],\n",
       "       [ 14.08340729],\n",
       "       [ 39.61636356],\n",
       "       [ 17.43386257],\n",
       "       [  7.19021715],\n",
       "       [ 28.31374266],\n",
       "       [ 52.06479104],\n",
       "       [  8.29377146],\n",
       "       [ 80.02929266],\n",
       "       [ 33.28015807],\n",
       "       [ 75.42294568],\n",
       "       [177.76619776],\n",
       "       [ 67.29185221],\n",
       "       [ 52.18361417],\n",
       "       [125.29648988],\n",
       "       [ 14.58776311],\n",
       "       [164.11291843],\n",
       "       [ 38.8483614 ],\n",
       "       [  7.22114569],\n",
       "       [ 60.3192868 ],\n",
       "       [122.64471583],\n",
       "       [ 74.79037957],\n",
       "       [  7.31185847],\n",
       "       [ 22.48221545],\n",
       "       [ 76.40648533],\n",
       "       [107.65974366],\n",
       "       [ 63.67791348],\n",
       "       [204.57126217],\n",
       "       [143.80836568],\n",
       "       [100.49011985],\n",
       "       [156.32406037],\n",
       "       [ 82.91544064],\n",
       "       [166.60870045],\n",
       "       [ 99.27091606],\n",
       "       [ 76.50964543],\n",
       "       [ 30.01410149],\n",
       "       [ 48.79778224],\n",
       "       [  9.93518366],\n",
       "       [ 62.61421482],\n",
       "       [ 80.6709354 ],\n",
       "       [ 58.71408904],\n",
       "       [  7.44432038],\n",
       "       [  8.12208351],\n",
       "       [218.02497138],\n",
       "       [ 33.20481735],\n",
       "       [ 16.57172505],\n",
       "       [ 69.80798011],\n",
       "       [ 44.50179539],\n",
       "       [207.76248545],\n",
       "       [  9.17927531],\n",
       "       [147.4050417 ],\n",
       "       [ 16.72415638],\n",
       "       [185.47300532],\n",
       "       [ 40.82026401],\n",
       "       [122.49657668],\n",
       "       [ 41.98020829],\n",
       "       [ 83.31465768],\n",
       "       [ 38.18206389],\n",
       "       [ 15.30892183],\n",
       "       [ 14.83536825],\n",
       "       [  7.41153703],\n",
       "       [166.88259942],\n",
       "       [100.07827488],\n",
       "       [ 22.70322442],\n",
       "       [ 41.26949022],\n",
       "       [ 46.71635762],\n",
       "       [ 70.08425688],\n",
       "       [ 58.64955443],\n",
       "       [ 82.4041386 ],\n",
       "       [195.45375985],\n",
       "       [ 41.33029279],\n",
       "       [ 87.34673188],\n",
       "       [ 14.55861135],\n",
       "       [ 43.16216146],\n",
       "       [ 18.9036592 ],\n",
       "       [ 18.92583862],\n",
       "       [ 27.79919169],\n",
       "       [ 12.04903608],\n",
       "       [ 51.83401866],\n",
       "       [ 50.81005629],\n",
       "       [ 12.16819769],\n",
       "       [ 97.2041949 ],\n",
       "       [ 68.47173509],\n",
       "       [ 21.8271074 ],\n",
       "       [171.30525284],\n",
       "       [  7.15327513],\n",
       "       [ 12.68809816],\n",
       "       [ 91.62974456],\n",
       "       [213.65140861],\n",
       "       [ 48.13567035],\n",
       "       [202.08280453],\n",
       "       [ 12.29300225],\n",
       "       [  9.30036488],\n",
       "       [ 37.27154964],\n",
       "       [200.71769618],\n",
       "       [ 46.2070052 ],\n",
       "       [ 22.21731241],\n",
       "       [  7.39535646],\n",
       "       [  7.43035642],\n",
       "       [117.22042652],\n",
       "       [ 38.54649846],\n",
       "       [ 23.57931693],\n",
       "       [198.01820155],\n",
       "       [160.21591463],\n",
       "       [ 58.09504667],\n",
       "       [ 33.90457714],\n",
       "       [ 25.95946111],\n",
       "       [ 21.13306422],\n",
       "       [ 64.57686775],\n",
       "       [ 17.28314201],\n",
       "       [  7.34170808],\n",
       "       [  8.31341135],\n",
       "       [ 16.68196216],\n",
       "       [ 31.54156662],\n",
       "       [ 87.91170886],\n",
       "       [ 10.96392998],\n",
       "       [161.66400719],\n",
       "       [ 55.19217393],\n",
       "       [  7.02879474],\n",
       "       [ 37.1767402 ],\n",
       "       [ 18.15361196],\n",
       "       [102.94035282],\n",
       "       [ 10.24573824],\n",
       "       [ 85.39956726],\n",
       "       [ 59.44861975],\n",
       "       [  8.07268899],\n",
       "       [ 94.12426056],\n",
       "       [ 30.39941718],\n",
       "       [104.91627214],\n",
       "       [ 13.25978818],\n",
       "       [ 41.18248904],\n",
       "       [  7.97220869],\n",
       "       [ 38.71431864],\n",
       "       [132.0096951 ],\n",
       "       [196.87368198],\n",
       "       [ 63.96600431],\n",
       "       [ 46.48546287],\n",
       "       [ 10.44543433],\n",
       "       [ 90.46312182],\n",
       "       [112.15939361],\n",
       "       [  6.98601418],\n",
       "       [ 12.55448187],\n",
       "       [  8.83957043],\n",
       "       [ 60.90232073],\n",
       "       [  7.56600449],\n",
       "       [189.90229931],\n",
       "       [ 15.84063026],\n",
       "       [ 14.40403192],\n",
       "       [ 92.62829126],\n",
       "       [  7.05299851],\n",
       "       [ 47.8907369 ],\n",
       "       [160.63995848],\n",
       "       [175.64665179],\n",
       "       [ 77.84534815],\n",
       "       [ 89.99295754],\n",
       "       [ 97.07654869],\n",
       "       [102.57891085],\n",
       "       [113.24224331],\n",
       "       [ 91.75901138],\n",
       "       [ 10.22958182],\n",
       "       [ 15.29505359],\n",
       "       [  7.11179277],\n",
       "       [ 93.96960554],\n",
       "       [ 15.07593479],\n",
       "       [189.50350165],\n",
       "       [ 48.68756369],\n",
       "       [  6.95442758],\n",
       "       [ 14.51447303],\n",
       "       [ 55.05539305],\n",
       "       [ 30.75223324],\n",
       "       [ 12.9313496 ],\n",
       "       [103.64240784],\n",
       "       [ 13.86381101],\n",
       "       [  7.19433822],\n",
       "       [ 15.3027119 ],\n",
       "       [161.51719593],\n",
       "       [102.28265367],\n",
       "       [ 13.7741013 ],\n",
       "       [ 11.97126057],\n",
       "       [  6.92345789],\n",
       "       [ 28.20195039],\n",
       "       [ 10.75498284],\n",
       "       [ 41.1895497 ],\n",
       "       [151.35124839],\n",
       "       [  7.714307  ],\n",
       "       [ 79.37878584],\n",
       "       [ 74.47466689],\n",
       "       [ 28.15827255],\n",
       "       [ 19.77530967],\n",
       "       [  7.20635724],\n",
       "       [ 82.80831619],\n",
       "       [ 29.85051721],\n",
       "       [  9.74921784],\n",
       "       [127.24807228],\n",
       "       [ 38.2745755 ],\n",
       "       [  8.60497332],\n",
       "       [ 12.03844512],\n",
       "       [156.18378504],\n",
       "       [ 40.28909755],\n",
       "       [ 18.69117662],\n",
       "       [120.70900219],\n",
       "       [ 10.66653593],\n",
       "       [115.55547302],\n",
       "       [ 80.62570687],\n",
       "       [ 73.37942515],\n",
       "       [ 33.80166185],\n",
       "       [ 38.49866691],\n",
       "       [131.63185974],\n",
       "       [170.53976197],\n",
       "       [  7.07388957],\n",
       "       [217.9884261 ],\n",
       "       [127.69123574],\n",
       "       [  8.70408583],\n",
       "       [  6.94262338],\n",
       "       [ 58.63456652],\n",
       "       [ 10.36313953],\n",
       "       [ 48.15121162],\n",
       "       [164.49782075],\n",
       "       [ 17.43899384],\n",
       "       [ 23.256353  ],\n",
       "       [137.61415779],\n",
       "       [ 22.48004631],\n",
       "       [ 34.69269188],\n",
       "       [109.53777428],\n",
       "       [  9.74335625],\n",
       "       [ 31.14004973],\n",
       "       [ 30.36793638],\n",
       "       [ 68.75713499],\n",
       "       [104.78628108],\n",
       "       [ 13.75438448],\n",
       "       [ 14.51848748],\n",
       "       [ 80.76439576],\n",
       "       [ 20.77222995],\n",
       "       [162.45848677],\n",
       "       [103.24321608],\n",
       "       [ 39.81199099],\n",
       "       [ 31.83861378],\n",
       "       [213.63484457],\n",
       "       [194.1712917 ],\n",
       "       [  6.92584972],\n",
       "       [  7.14041464],\n",
       "       [  8.83261049],\n",
       "       [ 13.33868295],\n",
       "       [210.85389993],\n",
       "       [  7.86392259],\n",
       "       [  8.65199802],\n",
       "       [221.41839506],\n",
       "       [ 27.10191465],\n",
       "       [  8.18369485],\n",
       "       [  6.93003144],\n",
       "       [ 78.40299968],\n",
       "       [  6.93400748],\n",
       "       [142.25838923],\n",
       "       [  7.26829701],\n",
       "       [ 57.23147338],\n",
       "       [ 10.67202109],\n",
       "       [ 14.73757342],\n",
       "       [  6.95264516],\n",
       "       [111.41876012],\n",
       "       [  7.07815569],\n",
       "       [  6.98027278],\n",
       "       [  7.22548237],\n",
       "       [ 97.2567271 ],\n",
       "       [ 28.93220389],\n",
       "       [ 10.54936194],\n",
       "       [174.16760268],\n",
       "       [ 38.39294019],\n",
       "       [ 29.053203  ],\n",
       "       [ 29.67537866],\n",
       "       [ 14.13131798],\n",
       "       [ 28.35440096],\n",
       "       [ 78.97180826],\n",
       "       [ 60.98583172],\n",
       "       [ 67.55750766],\n",
       "       [ 17.17052917],\n",
       "       [ 83.2439836 ],\n",
       "       [ 10.46847406],\n",
       "       [ 34.52517844],\n",
       "       [ 67.18918407],\n",
       "       [ 11.25882432],\n",
       "       [ 61.73780335],\n",
       "       [ 21.82128952],\n",
       "       [ 60.88607689],\n",
       "       [  7.48892678],\n",
       "       [ 95.63356833],\n",
       "       [ 32.46583224],\n",
       "       [ 59.25861722],\n",
       "       [ 16.89961616],\n",
       "       [ 98.42677836],\n",
       "       [116.91033416],\n",
       "       [ 61.63017733],\n",
       "       [ 19.88640942],\n",
       "       [ 40.9591762 ],\n",
       "       [ 24.09821515],\n",
       "       [  7.29764232],\n",
       "       [ 14.94752652],\n",
       "       [100.19671752],\n",
       "       [ 68.24954823],\n",
       "       [  9.20074936],\n",
       "       [120.75088217],\n",
       "       [ 19.30694278],\n",
       "       [  7.57311713],\n",
       "       [ 10.13332206],\n",
       "       [ 54.56593615],\n",
       "       [  6.97507101],\n",
       "       [181.05778421],\n",
       "       [  8.63093041],\n",
       "       [132.46202676],\n",
       "       [ 46.98148907],\n",
       "       [ 20.99871013],\n",
       "       [  7.0865089 ],\n",
       "       [ 11.92126867],\n",
       "       [ 28.03779298],\n",
       "       [ 28.44997336],\n",
       "       [ 59.7251016 ],\n",
       "       [ 79.15753307],\n",
       "       [ 22.84400547],\n",
       "       [ 26.57546744],\n",
       "       [ 77.83505015],\n",
       "       [110.16649646],\n",
       "       [ 72.01483966],\n",
       "       [ 48.82938067],\n",
       "       [127.80645526],\n",
       "       [ 75.53131092],\n",
       "       [192.94026111],\n",
       "       [207.68773809],\n",
       "       [105.72741102],\n",
       "       [120.91043414],\n",
       "       [ 51.7646402 ],\n",
       "       [202.16705203],\n",
       "       [ 30.39564637],\n",
       "       [ 23.595038  ],\n",
       "       [ 10.2389484 ],\n",
       "       [  7.57369556],\n",
       "       [ 10.40729537],\n",
       "       [ 60.60426564],\n",
       "       [ 12.24443371],\n",
       "       [ 60.85569902],\n",
       "       [ 42.81291314],\n",
       "       [  8.00018466],\n",
       "       [190.91152582],\n",
       "       [ 10.87421682],\n",
       "       [  8.005059  ],\n",
       "       [ 33.73244233],\n",
       "       [102.89347407],\n",
       "       [183.51611371],\n",
       "       [188.56339356],\n",
       "       [ 96.83156376],\n",
       "       [ 40.35712527],\n",
       "       [ 10.12575288],\n",
       "       [147.84735192],\n",
       "       [ 45.71511395],\n",
       "       [ 48.69872495],\n",
       "       [ 93.04099672],\n",
       "       [  7.22155303],\n",
       "       [ 13.89023891],\n",
       "       [ 61.85899155],\n",
       "       [ 15.27270245],\n",
       "       [ 42.85305747],\n",
       "       [ 84.28490911],\n",
       "       [113.61918646],\n",
       "       [ 13.68327231],\n",
       "       [139.76160187],\n",
       "       [  9.34965059],\n",
       "       [126.35603899],\n",
       "       [139.88966649],\n",
       "       [ 22.57635857],\n",
       "       [  6.92728991],\n",
       "       [133.83479016],\n",
       "       [  7.97985008],\n",
       "       [ 18.50628411],\n",
       "       [  7.92763909],\n",
       "       [ 25.74308951],\n",
       "       [  9.40440385],\n",
       "       [ 33.34282839],\n",
       "       [ 79.59542385],\n",
       "       [ 74.28470079],\n",
       "       [ 33.38224244],\n",
       "       [ 77.6297169 ],\n",
       "       [ 25.308996  ],\n",
       "       [ 72.39392287],\n",
       "       [ 18.11176964],\n",
       "       [ 27.07684681],\n",
       "       [ 31.10517033],\n",
       "       [ 60.31578464],\n",
       "       [ 15.16965794],\n",
       "       [218.80830165],\n",
       "       [ 14.25629893],\n",
       "       [ 75.67309306],\n",
       "       [215.73910671],\n",
       "       [ 38.06538031],\n",
       "       [116.4398196 ],\n",
       "       [ 87.83767077],\n",
       "       [  7.06081448],\n",
       "       [106.81154508],\n",
       "       [ 17.43938315],\n",
       "       [ 65.71205726],\n",
       "       [ 94.63199451],\n",
       "       [105.44980573],\n",
       "       [  8.03065579],\n",
       "       [ 21.84445199],\n",
       "       [ 26.8702628 ],\n",
       "       [ 41.23627557],\n",
       "       [ 84.60935209],\n",
       "       [  7.93004667],\n",
       "       [ 20.6853587 ],\n",
       "       [  7.56264048],\n",
       "       [168.91717048],\n",
       "       [ 15.95391655],\n",
       "       [ 14.7494919 ],\n",
       "       [ 19.43372913],\n",
       "       [ 68.6540278 ],\n",
       "       [101.62055572],\n",
       "       [185.6674205 ],\n",
       "       [ 36.2757408 ],\n",
       "       [  7.98906457],\n",
       "       [141.71334125],\n",
       "       [ 16.69900922],\n",
       "       [ 62.9756593 ],\n",
       "       [103.75160417],\n",
       "       [ 22.86288628],\n",
       "       [ 76.99571859],\n",
       "       [ 67.70156199],\n",
       "       [ 50.04074864],\n",
       "       [ 91.00097329],\n",
       "       [ 24.43469957],\n",
       "       [ 23.8115483 ],\n",
       "       [211.9996194 ],\n",
       "       [128.07830184],\n",
       "       [  7.43796906],\n",
       "       [101.48043715],\n",
       "       [ 26.44575923],\n",
       "       [154.99280581],\n",
       "       [179.63381179],\n",
       "       [ 17.46789453],\n",
       "       [ 47.20135493],\n",
       "       [ 11.98948727],\n",
       "       [ 46.81446011],\n",
       "       [ 92.68714544],\n",
       "       [ 29.93087501],\n",
       "       [108.96557548],\n",
       "       [175.56423289],\n",
       "       [ 12.38778048],\n",
       "       [ 13.04773219],\n",
       "       [ 52.06845238],\n",
       "       [ 29.32472888],\n",
       "       [ 13.84200388],\n",
       "       [ 13.94822346],\n",
       "       [ 16.2560233 ],\n",
       "       [  8.09014025],\n",
       "       [ 54.4374643 ],\n",
       "       [126.77165872],\n",
       "       [ 44.60113088],\n",
       "       [198.09030211]])"
      ]
     },
     "execution_count": 49,
     "metadata": {},
     "output_type": "execute_result"
    }
   ],
   "source": [
    "prediction2=model2.predict(x_poly)\n",
    "prediction2"
   ]
  },
  {
   "cell_type": "code",
   "execution_count": 58,
   "metadata": {},
   "outputs": [
    {
     "name": "stdout",
     "output_type": "stream",
     "text": [
      "[[ 2. 13.]]\n"
     ]
    }
   ],
   "source": [
    "print(model2.coef_)"
   ]
  },
  {
   "cell_type": "code",
   "execution_count": 59,
   "metadata": {},
   "outputs": [
    {
     "name": "stdout",
     "output_type": "stream",
     "text": [
      "[7.]\n"
     ]
    }
   ],
   "source": [
    "print(model2.intercept_)"
   ]
  },
  {
   "cell_type": "code",
   "execution_count": 60,
   "metadata": {},
   "outputs": [
    {
     "data": {
      "image/png": "[encoded data removed]",
      "text/plain": [
       "<Figure size 432x288 with 1 Axes>"
      ]
     },
     "metadata": {
      "needs_background": "light"
     },
     "output_type": "display_data"
    }
   ],
   "source": [
    "plt.scatter(x1,y,color=\"red\")\n",
    "plt.plot(x1,prediction2)\n",
    "\n",
    "plt.show()"
   ]
  },
  {
   "cell_type": "code",
   "execution_count": 62,
   "metadata": {},
   "outputs": [
    {
     "name": "stdout",
     "output_type": "stream",
     "text": [
      "1.7337242752546444e-14\n"
     ]
    }
   ],
   "source": [
    "print(metrics.mean_absolute_error(y,prediction2))"
   ]
  },
  {
   "cell_type": "code",
   "execution_count": 63,
   "metadata": {},
   "outputs": [
    {
     "name": "stdout",
     "output_type": "stream",
     "text": [
      "6.159236621348407e-28\n"
     ]
    }
   ],
   "source": [
    "print(metrics.mean_squared_error(y,prediction2))"
   ]
  },
  {
   "cell_type": "code",
   "execution_count": 64,
   "metadata": {},
   "outputs": [
    {
     "name": "stdout",
     "output_type": "stream",
     "text": [
      "1.316709639690788e-07\n"
     ]
    }
   ],
   "source": [
    "print(np.sqrt(metrics.mean_absolute_error(y,prediction2)))"
   ]
  },
  {
   "cell_type": "code",
   "execution_count": 65,
   "metadata": {},
   "outputs": [
    {
     "name": "stdout",
     "output_type": "stream",
     "text": [
      "1.0\n"
     ]
    }
   ],
   "source": [
    "print(metrics.r2_score(y,prediction2))"
   ]
  },
  {
   "cell_type": "code",
   "execution_count": null,
   "metadata": {},
   "outputs": [],
   "source": []
  },
  {
   "cell_type": "markdown",
   "metadata": {},
   "source": []
  }
 ],
 "metadata": {
  "kernelspec": {
   "display_name": "Python 3",
   "language": "python",
   "name": "python3"
  },
  "language_info": {
   "codemirror_mode": {
    "name": "ipython",
    "version": 3
   },
   "file_extension": ".py",
   "mimetype": "text/x-python",
   "name": "python",
   "nbconvert_exporter": "python",
   "pygments_lexer": "ipython3",
   "version": "3.8.5"
  }
 },
 "nbformat": 4,
 "nbformat_minor": 4
}
